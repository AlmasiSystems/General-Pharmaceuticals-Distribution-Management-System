{
 "cells": [
  {
   "cell_type": "code",
   "execution_count": 0,
   "metadata": {
    "colab": {},
    "colab_type": "code",
    "collapsed": true,
    "id": "97YF3MjSqbDj"
   },
   "outputs": [],
   "source": [
    "import pandas as pd\n",
    "from sklearn.model_selection import train_test_split\n",
    "\n",
    "df = pd.read_csv(\"data/train_data_disease.csv\")"
   ]
  },
  {
   "cell_type": "code",
   "execution_count": 0,
   "metadata": {
    "colab": {},
    "colab_type": "code",
    "collapsed": true,
    "id": "k9_btMBCtf1k"
   },
   "outputs": [],
   "source": [
    "data = df.iloc[:,[0,1,2,3,4,5,6,7,8,9]]\n",
    "labels = df.iloc[:,[10, 11, 12,13,14]]\n",
    "x_train, x_test, y_train, y_test = train_test_split(data,labels, test_size=0.4, random_state=1 )"
   ]
  },
  {
   "cell_type": "code",
   "execution_count": 0,
   "metadata": {
    "colab": {
     "base_uri": "https://localhost:8080/",
     "height": 266
    },
    "colab_type": "code",
    "collapsed": false,
    "id": "sSuSE8MwvSJM",
    "outputId": "5fe700a7-00be-4430-8cf9-13b088c4b770"
   },
   "outputs": [
    {
     "data": {
      "text/html": [
       "<div>\n",
       "<style scoped>\n",
       "    .dataframe tbody tr th:only-of-type {\n",
       "        vertical-align: middle;\n",
       "    }\n",
       "\n",
       "    .dataframe tbody tr th {\n",
       "        vertical-align: top;\n",
       "    }\n",
       "\n",
       "    .dataframe thead th {\n",
       "        text-align: right;\n",
       "    }\n",
       "</style>\n",
       "<table border=\"1\" class=\"dataframe\">\n",
       "  <thead>\n",
       "    <tr style=\"text-align: right;\">\n",
       "      <th></th>\n",
       "      <th>drug_1</th>\n",
       "      <th>drug_2</th>\n",
       "      <th>drug_3</th>\n",
       "      <th>drug_4</th>\n",
       "      <th>drug_5</th>\n",
       "      <th>drug_6</th>\n",
       "      <th>drug_7</th>\n",
       "      <th>drug_8</th>\n",
       "      <th>drug_9</th>\n",
       "      <th>drug_10</th>\n",
       "    </tr>\n",
       "  </thead>\n",
       "  <tbody>\n",
       "    <tr>\n",
       "      <th>6</th>\n",
       "      <td>24</td>\n",
       "      <td>45</td>\n",
       "      <td>34</td>\n",
       "      <td>32</td>\n",
       "      <td>90</td>\n",
       "      <td>25</td>\n",
       "      <td>25</td>\n",
       "      <td>20</td>\n",
       "      <td>35</td>\n",
       "      <td>14</td>\n",
       "    </tr>\n",
       "    <tr>\n",
       "      <th>0</th>\n",
       "      <td>21</td>\n",
       "      <td>32</td>\n",
       "      <td>15</td>\n",
       "      <td>33</td>\n",
       "      <td>90</td>\n",
       "      <td>25</td>\n",
       "      <td>25</td>\n",
       "      <td>20</td>\n",
       "      <td>35</td>\n",
       "      <td>14</td>\n",
       "    </tr>\n",
       "    <tr>\n",
       "      <th>7</th>\n",
       "      <td>48</td>\n",
       "      <td>76</td>\n",
       "      <td>45</td>\n",
       "      <td>55</td>\n",
       "      <td>80</td>\n",
       "      <td>23</td>\n",
       "      <td>78</td>\n",
       "      <td>43</td>\n",
       "      <td>12</td>\n",
       "      <td>90</td>\n",
       "    </tr>\n",
       "    <tr>\n",
       "      <th>11</th>\n",
       "      <td>60</td>\n",
       "      <td>67</td>\n",
       "      <td>22</td>\n",
       "      <td>12</td>\n",
       "      <td>42</td>\n",
       "      <td>48</td>\n",
       "      <td>31</td>\n",
       "      <td>24</td>\n",
       "      <td>78</td>\n",
       "      <td>21</td>\n",
       "    </tr>\n",
       "    <tr>\n",
       "      <th>9</th>\n",
       "      <td>19</td>\n",
       "      <td>13</td>\n",
       "      <td>34</td>\n",
       "      <td>32</td>\n",
       "      <td>90</td>\n",
       "      <td>25</td>\n",
       "      <td>25</td>\n",
       "      <td>20</td>\n",
       "      <td>35</td>\n",
       "      <td>14</td>\n",
       "    </tr>\n",
       "    <tr>\n",
       "      <th>8</th>\n",
       "      <td>34</td>\n",
       "      <td>2</td>\n",
       "      <td>12</td>\n",
       "      <td>54</td>\n",
       "      <td>42</td>\n",
       "      <td>48</td>\n",
       "      <td>31</td>\n",
       "      <td>24</td>\n",
       "      <td>78</td>\n",
       "      <td>21</td>\n",
       "    </tr>\n",
       "    <tr>\n",
       "      <th>5</th>\n",
       "      <td>64</td>\n",
       "      <td>11</td>\n",
       "      <td>32</td>\n",
       "      <td>67</td>\n",
       "      <td>42</td>\n",
       "      <td>48</td>\n",
       "      <td>31</td>\n",
       "      <td>24</td>\n",
       "      <td>78</td>\n",
       "      <td>21</td>\n",
       "    </tr>\n",
       "  </tbody>\n",
       "</table>\n",
       "</div>"
      ],
      "text/plain": [
       "    drug_1  drug_2  drug_3  drug_4  ...  drug_7  drug_8  drug_9  drug_10\n",
       "6       24      45      34      32  ...      25      20      35       14\n",
       "0       21      32      15      33  ...      25      20      35       14\n",
       "7       48      76      45      55  ...      78      43      12       90\n",
       "11      60      67      22      12  ...      31      24      78       21\n",
       "9       19      13      34      32  ...      25      20      35       14\n",
       "8       34       2      12      54  ...      31      24      78       21\n",
       "5       64      11      32      67  ...      31      24      78       21\n",
       "\n",
       "[7 rows x 10 columns]"
      ]
     },
     "execution_count": 16,
     "metadata": {
      "tags": []
     },
     "output_type": "execute_result"
    }
   ],
   "source": []
  },
  {
   "cell_type": "code",
   "execution_count": 0,
   "metadata": {
    "colab": {
     "base_uri": "https://localhost:8080/",
     "height": 102
    },
    "colab_type": "code",
    "collapsed": false,
    "id": "tjjJ5nM8WHVz",
    "outputId": "a836a3c5-e2b1-4876-9e72-c38c7a5a0d35"
   },
   "outputs": [
    {
     "data": {
      "text/plain": [
       "array([[0.4, 0.6, 0.6, 0. , 1. ],\n",
       "       [0.6, 0.4, 0.4, 0. , 1. ],\n",
       "       [0.8, 0.2, 0.4, 0.2, 0.8],\n",
       "       [0.8, 0.2, 0.4, 0.2, 0.8],\n",
       "       [0.8, 0.2, 0.4, 0.2, 0.8]])"
      ]
     },
     "execution_count": 17,
     "metadata": {
      "tags": []
     },
     "output_type": "execute_result"
    }
   ],
   "source": [
    "from sklearn.neighbors import KNeighborsRegressor\n",
    "from sklearn.multioutput import MultiOutputRegressor\n",
    "import numpy as np\n",
    "\n",
    "knn = KNeighborsRegressor()\n",
    "regr = MultiOutputRegressor(knn)\n",
    "\n",
    "regr.fit(x_train, y_train)\n",
    "regr.predict(x_test)"
   ]
  },
  {
   "cell_type": "code",
   "execution_count": 0,
   "metadata": {
    "colab": {},
    "colab_type": "code",
    "collapsed": true,
    "id": "EBiDBV4iWI6b"
   },
   "outputs": [],
   "source": []
  }
 ],
 "metadata": {
  "colab": {
   "collapsed_sections": [],
   "name": "Disease_prediction",
   "provenance": [],
   "version": "0.3.2"
  },
  "kernelspec": {
   "display_name": "Python 3",
   "name": "python3"
  }
 },
 "nbformat": 4,
 "nbformat_minor": 0
}
